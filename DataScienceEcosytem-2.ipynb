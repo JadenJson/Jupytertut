{
 "cells": [
  {
   "cell_type": "markdown",
   "metadata": {},
   "source": [
    "<center>\n",
    "    <img src=\"https://cf-courses-data.s3.us.cloud-object-storage.appdomain.cloud/IBMDeveloperSkillsNetwork-DS0105EN-SkillsNetwork/labs/Module2/images/SN_web_lightmode.png\" width=\"300\" alt=\"cognitiveclass.ai logo\">\n",
    "</center>\n"
   ]
  },
  {
   "cell_type": "markdown",
   "metadata": {},
   "source": [
    "#### Add your code below following the instructions given in the course\n"
   ]
  },
  {
   "cell_type": "markdown",
   "metadata": {},
   "source": [
    "# Data Science tools and Ecosystem"
   ]
  },
  {
   "cell_type": "markdown",
   "metadata": {},
   "source": [
    "In this notebook, I will summarise Data Science Tools and Ecosystems. "
   ]
  },
  {
   "cell_type": "markdown",
   "metadata": {},
   "source": [
    "In Data Science there are a variety of languages used for numerous tasks. Some of the most popular languages used include:\n",
    "\n",
    "1. Python\n",
    "2. R\n",
    "3. SQL\n",
    "4. Scala\n",
    "5. Java\n",
    "6. Julia\n",
    "7. JavaScript\n"
   ]
  },
  {
   "cell_type": "markdown",
   "metadata": {},
   "source": [
    "Alongside these languages there are an equally various selection of libraries to utilise within the realm of Data sciences.\n",
    "These libraries allow for the completion of extensive projects ranging from simple gathering of data to programming algorithims\n",
    "which predict the future price of options. Some of the commonly used libraries by Data Scientists include:\n",
    "\n",
    "1. SciPy (Provides algorithims for optimisation, integration, eigenvalue problems, algebra and more)\n",
    "2. Matplotlib (A data visualisation library used to generate plots and charts to allow for better view and interpretation of data)\n",
    "3. Scikit-learn (A machine learning library with various tools for statistical modeling)\n",
    "4. NumPy (Contains tools to perform mathematical operations such as vector-vector multiplication)\n",
    "5. keras (used to produce and train deep learning models)"
   ]
  },
  {
   "cell_type": "markdown",
   "metadata": {},
   "source": [
    "| Data Science Tools |\n",
    "|------------------- |\n",
    "| Tensor Flow |\n",
    "| Apache Spark | \n",
    "| Tableau |"
   ]
  },
  {
   "cell_type": "markdown",
   "metadata": {},
   "source": [
    "### Evaluating arithmetic expressions in Python"
   ]
  },
  {
   "cell_type": "code",
   "execution_count": 3,
   "metadata": {},
   "outputs": [
    {
     "name": "stdout",
     "output_type": "stream",
     "text": [
      "17\n"
     ]
    }
   ],
   "source": [
    "#In this code cell I will evaluate the expression (3 x 4) + 5\n",
    "#Note: Python uses the * operator for multiplication\n",
    "\n",
    "result = (3*4) + 5\n",
    "print(result)\n"
   ]
  },
  {
   "cell_type": "code",
   "execution_count": 6,
   "metadata": {
    "scrolled": true
   },
   "outputs": [
    {
     "name": "stdin",
     "output_type": "stream",
     "text": [
      "Enter minutes :  200\n"
     ]
    },
    {
     "name": "stdout",
     "output_type": "stream",
     "text": [
      "Hours= 3\n",
      "Minutes= 20\n"
     ]
    }
   ],
   "source": [
    "min=int(input(\"Enter minutes : \"))\n",
    "#This is a type of string. \"int\" creates an integer and \"(input(\" creates an input function which requests an integer from the user. \"Min\" is the name of the integer.\n",
    "h=min//60\n",
    "#Simple mathematics. \"H\" or Hour is the integer \"Min\" divided by 60. Use double forward slashes (// rather than /) to avoid a decimal.\n",
    "m=min%60\n",
    "#The \"%\" simple is a Modulus Operator. When the first operator is divided by the second (minutes divided by 60 to get the hour) it yields the remainder  and returns it to the first operator.\n",
    "print(\"Hours=\",h)\n",
    "print(\"Minutes=\",m)\n",
    "#Using the Print function to display the value of the expression after conversion."
   ]
  },
  {
   "cell_type": "markdown",
   "metadata": {},
   "source": [
    "# Objective Summary\n",
    "\n",
    "In this Notebook we have covered the following\n",
    "\n",
    "* Noteable Data Sciences languages used in the world of Data Science\n",
    "* Popular libraries that are utilised by Data Scientists.\n",
    "* Popular tools used by Data Scienstists\n",
    "* An example of how to evaluate expressions using Python."
   ]
  },
  {
   "cell_type": "markdown",
   "metadata": {},
   "source": [
    "## Author\n",
    "\n",
    "Created by Jaden M. J as part of IBM course."
   ]
  }
 ],
 "metadata": {
  "kernelspec": {
   "display_name": "Python 3 (ipykernel)",
   "language": "python",
   "name": "python3"
  },
  "language_info": {
   "codemirror_mode": {
    "name": "ipython",
    "version": 3
   },
   "file_extension": ".py",
   "mimetype": "text/x-python",
   "name": "python",
   "nbconvert_exporter": "python",
   "pygments_lexer": "ipython3",
   "version": "3.12.8"
  }
 },
 "nbformat": 4,
 "nbformat_minor": 4
}
